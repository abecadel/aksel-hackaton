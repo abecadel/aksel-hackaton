{
 "cells": [
  {
   "cell_type": "code",
   "execution_count": 34,
   "metadata": {},
   "outputs": [],
   "source": [
    "import pandas as pd\n",
    "import json"
   ]
  },
  {
   "cell_type": "code",
   "execution_count": 42,
   "metadata": {},
   "outputs": [],
   "source": [
    "a = json.loads(open('mercari_kategorie.json').read())"
   ]
  },
  {
   "cell_type": "code",
   "execution_count": 43,
   "metadata": {},
   "outputs": [],
   "source": [
    "id_to_o = dict()\n",
    "\n",
    "for i in a:\n",
    "    ob = a[i]\n",
    "    id_to_o[ob['id']] = ob"
   ]
  },
  {
   "cell_type": "code",
   "execution_count": 44,
   "metadata": {},
   "outputs": [],
   "source": [
    "lvl3 = [id_to_o[x] for x in id_to_o if id_to_o[x]['level'] is '2']"
   ]
  },
  {
   "cell_type": "code",
   "execution_count": 45,
   "metadata": {},
   "outputs": [],
   "source": [
    "cats = []\n",
    "for o in lvl3:\n",
    "    cat3 = o['name']\n",
    "    o_lvl2 = id_to_o[int(o['parent_id'])]\n",
    "    cat2 = o_lvl2['name'] \n",
    "    o_lvl1 = id_to_o[int(o_lvl2['parent_id'])]\n",
    "    cat1 = o_lvl1['name'] \n",
    "    \n",
    "    cats.append([cat1, cat2, cat3])\n",
    "    \n",
    "cats = pd.DataFrame(cats, columns=['cat_1','cat_2','cat_3'])"
   ]
  },
  {
   "cell_type": "code",
   "execution_count": 46,
   "metadata": {},
   "outputs": [],
   "source": [
    "cats.to_csv('mercari_cats.csv', index=False)"
   ]
  },
  {
   "cell_type": "code",
   "execution_count": null,
   "metadata": {},
   "outputs": [],
   "source": []
  }
 ],
 "metadata": {
  "kernelspec": {
   "display_name": "Python 3",
   "language": "python",
   "name": "python3"
  },
  "language_info": {
   "codemirror_mode": {
    "name": "ipython",
    "version": 3
   },
   "file_extension": ".py",
   "mimetype": "text/x-python",
   "name": "python",
   "nbconvert_exporter": "python",
   "pygments_lexer": "ipython3",
   "version": "3.6.5"
  }
 },
 "nbformat": 4,
 "nbformat_minor": 2
}
